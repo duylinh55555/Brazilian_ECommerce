{
 "cells": [
  {
   "cell_type": "code",
   "execution_count": 41,
   "metadata": {},
   "outputs": [],
   "source": [
    "import pandas as pd\n",
    "\n",
    "customers       = pd.read_csv('../Datasets/Brazilian E-Commerce/olist_customers_dataset.csv')\n",
    "geolocation     = pd.read_csv('../Datasets/Brazilian E-Commerce/olist_geolocation_dataset.csv')\n",
    "order_items     = pd.read_csv('../Datasets/Brazilian E-Commerce/olist_order_items_dataset.csv')\n",
    "order_payments  = pd.read_csv('../Datasets/Brazilian E-Commerce/olist_order_payments_dataset.csv')\n",
    "order_reviews   = pd.read_csv('../Datasets/Brazilian E-Commerce/olist_order_reviews_dataset.csv')\n",
    "orders          = pd.read_csv('../Datasets/Brazilian E-Commerce/olist_orders_dataset.csv')\n",
    "products        = pd.read_csv('../Datasets/Brazilian E-Commerce/olist_products_dataset.csv')\n",
    "sellers         = pd.read_csv('../Datasets/Brazilian E-Commerce/olist_sellers_dataset.csv')\n",
    "product_category_translation = pd.read_csv('../Datasets/Brazilian E-Commerce/product_category_name_translation.csv')\n",
    "\n",
    "dataframe_dict = {'Customers': customers, \n",
    "                  'Geolocation': geolocation, \n",
    "                  'Order Items':order_items,\n",
    "                  'Order Payments':order_payments, \n",
    "                  'Order Reviews':order_reviews, \n",
    "                  'Orders':orders, \n",
    "                  'Products':products, \n",
    "                  'Sellers':sellers, \n",
    "                  'Product Category Name Translation':product_category_translation}"
   ]
  },
  {
   "cell_type": "code",
   "execution_count": 48,
   "metadata": {},
   "outputs": [
    {
     "name": "stdout",
     "output_type": "stream",
     "text": [
      "<class 'pandas.core.frame.DataFrame'>\n",
      "Int64Index: 117329 entries, 0 to 117328\n",
      "Data columns (total 18 columns):\n",
      " #   Column                         Non-Null Count   Dtype  \n",
      "---  ------                         --------------   -----  \n",
      " 0   order_id                       117329 non-null  object \n",
      " 1   customer_id                    117329 non-null  object \n",
      " 2   order_status                   117329 non-null  object \n",
      " 3   order_purchase_timestamp       117329 non-null  object \n",
      " 4   order_approved_at              117314 non-null  object \n",
      " 5   order_delivered_carrier_date   116094 non-null  object \n",
      " 6   order_delivered_customer_date  114858 non-null  object \n",
      " 7   order_estimated_delivery_date  117329 non-null  object \n",
      " 8   payment_type                   117329 non-null  object \n",
      " 9   payment_installments           117329 non-null  int64  \n",
      " 10  payment_value                  117329 non-null  float64\n",
      " 11  review_score                   117329 non-null  int64  \n",
      " 12  order_item_id                  117329 non-null  int64  \n",
      " 13  product_id                     117329 non-null  object \n",
      " 14  seller_id                      117329 non-null  object \n",
      " 15  shipping_limit_date            117329 non-null  object \n",
      " 16  price                          117329 non-null  float64\n",
      " 17  freight_value                  117329 non-null  float64\n",
      "dtypes: float64(3), int64(3), object(12)\n",
      "memory usage: 17.0+ MB\n"
     ]
    }
   ],
   "source": [
    "orders.info()"
   ]
  },
  {
   "cell_type": "code",
   "execution_count": 43,
   "metadata": {},
   "outputs": [],
   "source": [
    "orders = pd.merge(orders, order_payments[['order_id', 'payment_type', 'payment_installments', 'payment_value']], how='inner', on='order_id')\n",
    "orders = pd.merge(orders, order_reviews[['order_id', 'review_score']], how='inner', on='order_id')\n",
    "orders = pd.merge(orders, order_items, how='inner', on='order_id')"
   ]
  },
  {
   "cell_type": "code",
   "execution_count": 8,
   "metadata": {},
   "outputs": [],
   "source": [
    "products = pd.merge(products, product_category_translation, how='left', on='product_category_name')\n",
    "products.drop(columns=['product_category_name'])"
   ]
  },
  {
   "cell_type": "code",
   "execution_count": 24,
   "metadata": {},
   "outputs": [],
   "source": [
    "products.to_excel('../Datasets/Brazilian E-Commerce/products.xlsx', index=False)"
   ]
  },
  {
   "cell_type": "code",
   "execution_count": 47,
   "metadata": {},
   "outputs": [],
   "source": [
    "orders.to_excel('../Datasets/Brazilian E-Commerce/oorders.xlsx', index=False)"
   ]
  }
 ],
 "metadata": {
  "kernelspec": {
   "display_name": "base",
   "language": "python",
   "name": "python3"
  },
  "language_info": {
   "codemirror_mode": {
    "name": "ipython",
    "version": 3
   },
   "file_extension": ".py",
   "mimetype": "text/x-python",
   "name": "python",
   "nbconvert_exporter": "python",
   "pygments_lexer": "ipython3",
   "version": "3.9.13"
  },
  "orig_nbformat": 4
 },
 "nbformat": 4,
 "nbformat_minor": 2
}
